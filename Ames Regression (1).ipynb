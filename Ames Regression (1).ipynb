{
 "cells": [
  {
   "cell_type": "code",
   "execution_count": 2,
   "id": "beb374e1",
   "metadata": {},
   "outputs": [],
   "source": [
    "import pandas as pd\n",
    "import numpy as np\n",
    "import seaborn as sns\n",
    "import matplotlib.pyplot as plt\n",
    "\n",
    "from sklearn.linear_model import LinearRegression\n",
    "from sklearn.model_selection import train_test_split\n",
    "from sklearn.metrics import mean_squared_error\n",
    "from sklearn.preprocessing import StandardScaler\n",
    "\n",
    "from scipy import stats\n",
    "\n",
    "import statsmodels.api as sm\n",
    "from statsmodels.stats.outliers_influence import variance_inflation_factor\n",
    "from statsmodels.tools.tools import add_constant"
   ]
  },
  {
   "cell_type": "code",
   "execution_count": 3,
   "id": "7c282682",
   "metadata": {
    "scrolled": true
   },
   "outputs": [
    {
     "data": {
      "text/html": [
       "<div>\n",
       "<style scoped>\n",
       "    .dataframe tbody tr th:only-of-type {\n",
       "        vertical-align: middle;\n",
       "    }\n",
       "\n",
       "    .dataframe tbody tr th {\n",
       "        vertical-align: top;\n",
       "    }\n",
       "\n",
       "    .dataframe thead th {\n",
       "        text-align: right;\n",
       "    }\n",
       "</style>\n",
       "<table border=\"1\" class=\"dataframe\">\n",
       "  <thead>\n",
       "    <tr style=\"text-align: right;\">\n",
       "      <th></th>\n",
       "      <th>Unnamed: 0</th>\n",
       "      <th>PID</th>\n",
       "      <th>SalePrice</th>\n",
       "      <th>MSSubClass</th>\n",
       "      <th>MSZoning</th>\n",
       "      <th>LotFrontage</th>\n",
       "      <th>LotArea</th>\n",
       "      <th>Street</th>\n",
       "      <th>Alley</th>\n",
       "      <th>LotShape</th>\n",
       "      <th>...</th>\n",
       "      <th>SaleType</th>\n",
       "      <th>SaleCondition</th>\n",
       "      <th>NumbrFlrs</th>\n",
       "      <th>HouseAge</th>\n",
       "      <th>Remodeled</th>\n",
       "      <th>LogPrice</th>\n",
       "      <th>AllBathrooms</th>\n",
       "      <th>TotalLivArea</th>\n",
       "      <th>TotalOutdoorSF</th>\n",
       "      <th>HasPool</th>\n",
       "    </tr>\n",
       "  </thead>\n",
       "  <tbody>\n",
       "    <tr>\n",
       "      <th>0</th>\n",
       "      <td>1</td>\n",
       "      <td>909176150</td>\n",
       "      <td>126000</td>\n",
       "      <td>1-STORY 1945 &amp; OLDER</td>\n",
       "      <td>RL</td>\n",
       "      <td>60</td>\n",
       "      <td>7890</td>\n",
       "      <td>2</td>\n",
       "      <td>0</td>\n",
       "      <td>4</td>\n",
       "      <td>...</td>\n",
       "      <td>Warranty Deed</td>\n",
       "      <td>Normal</td>\n",
       "      <td>1</td>\n",
       "      <td>71</td>\n",
       "      <td>1</td>\n",
       "      <td>11.744037</td>\n",
       "      <td>2.0</td>\n",
       "      <td>1094</td>\n",
       "      <td>166</td>\n",
       "      <td>0</td>\n",
       "    </tr>\n",
       "    <tr>\n",
       "      <th>1</th>\n",
       "      <td>2</td>\n",
       "      <td>905476230</td>\n",
       "      <td>139500</td>\n",
       "      <td>1-STORY PUD 1946 &amp; NEWER</td>\n",
       "      <td>RL</td>\n",
       "      <td>42</td>\n",
       "      <td>4235</td>\n",
       "      <td>2</td>\n",
       "      <td>0</td>\n",
       "      <td>4</td>\n",
       "      <td>...</td>\n",
       "      <td>Warranty Deed</td>\n",
       "      <td>Normal</td>\n",
       "      <td>1</td>\n",
       "      <td>26</td>\n",
       "      <td>0</td>\n",
       "      <td>11.845820</td>\n",
       "      <td>3.0</td>\n",
       "      <td>1994</td>\n",
       "      <td>105</td>\n",
       "      <td>0</td>\n",
       "    </tr>\n",
       "    <tr>\n",
       "      <th>2</th>\n",
       "      <td>3</td>\n",
       "      <td>911128020</td>\n",
       "      <td>124900</td>\n",
       "      <td>1-STORY 1945 &amp; OLDER</td>\n",
       "      <td>C (all)</td>\n",
       "      <td>60</td>\n",
       "      <td>6060</td>\n",
       "      <td>2</td>\n",
       "      <td>0</td>\n",
       "      <td>4</td>\n",
       "      <td>...</td>\n",
       "      <td>Warranty Deed</td>\n",
       "      <td>Normal</td>\n",
       "      <td>1</td>\n",
       "      <td>80</td>\n",
       "      <td>1</td>\n",
       "      <td>11.735269</td>\n",
       "      <td>1.0</td>\n",
       "      <td>1738</td>\n",
       "      <td>282</td>\n",
       "      <td>0</td>\n",
       "    </tr>\n",
       "    <tr>\n",
       "      <th>3</th>\n",
       "      <td>4</td>\n",
       "      <td>535377150</td>\n",
       "      <td>114000</td>\n",
       "      <td>2-STORY 1945 &amp; OLDER</td>\n",
       "      <td>RL</td>\n",
       "      <td>80</td>\n",
       "      <td>8146</td>\n",
       "      <td>2</td>\n",
       "      <td>0</td>\n",
       "      <td>4</td>\n",
       "      <td>...</td>\n",
       "      <td>Warranty Deed</td>\n",
       "      <td>Normal</td>\n",
       "      <td>2</td>\n",
       "      <td>110</td>\n",
       "      <td>1</td>\n",
       "      <td>11.643954</td>\n",
       "      <td>1.0</td>\n",
       "      <td>1039</td>\n",
       "      <td>279</td>\n",
       "      <td>0</td>\n",
       "    </tr>\n",
       "    <tr>\n",
       "      <th>4</th>\n",
       "      <td>5</td>\n",
       "      <td>534177230</td>\n",
       "      <td>227000</td>\n",
       "      <td>2-STORY 1946 &amp; NEWER</td>\n",
       "      <td>RL</td>\n",
       "      <td>70</td>\n",
       "      <td>8400</td>\n",
       "      <td>2</td>\n",
       "      <td>0</td>\n",
       "      <td>4</td>\n",
       "      <td>...</td>\n",
       "      <td>Warranty Deed</td>\n",
       "      <td>Normal</td>\n",
       "      <td>2</td>\n",
       "      <td>9</td>\n",
       "      <td>0</td>\n",
       "      <td>12.332705</td>\n",
       "      <td>3.5</td>\n",
       "      <td>2308</td>\n",
       "      <td>45</td>\n",
       "      <td>0</td>\n",
       "    </tr>\n",
       "  </tbody>\n",
       "</table>\n",
       "<p>5 rows × 73 columns</p>\n",
       "</div>"
      ],
      "text/plain": [
       "   Unnamed: 0        PID  SalePrice                MSSubClass MSZoning  \\\n",
       "0           1  909176150     126000      1-STORY 1945 & OLDER       RL   \n",
       "1           2  905476230     139500  1-STORY PUD 1946 & NEWER       RL   \n",
       "2           3  911128020     124900      1-STORY 1945 & OLDER  C (all)   \n",
       "3           4  535377150     114000      2-STORY 1945 & OLDER       RL   \n",
       "4           5  534177230     227000      2-STORY 1946 & NEWER       RL   \n",
       "\n",
       "   LotFrontage  LotArea  Street  Alley  LotShape  ...       SaleType  \\\n",
       "0           60     7890       2      0         4  ...  Warranty Deed   \n",
       "1           42     4235       2      0         4  ...  Warranty Deed   \n",
       "2           60     6060       2      0         4  ...  Warranty Deed   \n",
       "3           80     8146       2      0         4  ...  Warranty Deed   \n",
       "4           70     8400       2      0         4  ...  Warranty Deed   \n",
       "\n",
       "   SaleCondition NumbrFlrs  HouseAge Remodeled   LogPrice AllBathrooms  \\\n",
       "0         Normal         1        71         1  11.744037          2.0   \n",
       "1         Normal         1        26         0  11.845820          3.0   \n",
       "2         Normal         1        80         1  11.735269          1.0   \n",
       "3         Normal         2       110         1  11.643954          1.0   \n",
       "4         Normal         2         9         0  12.332705          3.5   \n",
       "\n",
       "  TotalLivArea TotalOutdoorSF  HasPool  \n",
       "0         1094            166        0  \n",
       "1         1994            105        0  \n",
       "2         1738            282        0  \n",
       "3         1039            279        0  \n",
       "4         2308             45        0  \n",
       "\n",
       "[5 rows x 73 columns]"
      ]
     },
     "execution_count": 3,
     "metadata": {},
     "output_type": "execute_result"
    }
   ],
   "source": [
    "#read in data\n",
    "housing = pd.read_csv(\"ames_house_cleaned.csv\")\n",
    "housing.head()"
   ]
  },
  {
   "cell_type": "code",
   "execution_count": 4,
   "id": "9df39ba0",
   "metadata": {},
   "outputs": [],
   "source": [
    "housing.drop(['Unnamed: 0'],inplace=True, axis=1)"
   ]
  },
  {
   "cell_type": "code",
   "execution_count": 5,
   "id": "561963f8",
   "metadata": {},
   "outputs": [
    {
     "data": {
      "text/plain": [
       "Index(['PID', 'SalePrice', 'MSSubClass', 'MSZoning', 'LotFrontage', 'LotArea',\n",
       "       'Street', 'Alley', 'LotShape', 'LandContour', 'Utilities', 'LotConfig',\n",
       "       'LandSlope', 'Neighborhood', 'Condition1', 'Condition2', 'BldgType',\n",
       "       'HouseStyle', 'OverallQual', 'OverallCond', 'YearBuilt', 'YearRemodAdd',\n",
       "       'RoofStyle', 'RoofMatl', 'Exterior1st', 'Exterior2nd', 'MasVnrType',\n",
       "       'MasVnrArea', 'ExterQual', 'ExterCond', 'Foundation', 'BsmtQual',\n",
       "       'BsmtCond', 'BsmtExposure', 'BsmtFinType1', 'BsmtFinType2', 'BsmtUnfSF',\n",
       "       'Heating', 'HeatingQC', 'CentralAir', 'Electrical', 'BedroomAbvGr',\n",
       "       'KitchenAbvGr', 'KitchenQual', 'TotRmsAbvGrd', 'Functional',\n",
       "       'Fireplaces', 'FireplaceQu', 'GarageType', 'GarageYrBlt',\n",
       "       'GarageFinish', 'GarageCars', 'GarageArea', 'GarageQual', 'GarageCond',\n",
       "       'PavedDrive', 'PoolQC', 'Fence', 'MiscFeature', 'MiscVal', 'MoSold',\n",
       "       'YrSold', 'SaleType', 'SaleCondition', 'NumbrFlrs', 'HouseAge',\n",
       "       'Remodeled', 'LogPrice', 'AllBathrooms', 'TotalLivArea',\n",
       "       'TotalOutdoorSF', 'HasPool'],\n",
       "      dtype='object')"
      ]
     },
     "execution_count": 5,
     "metadata": {},
     "output_type": "execute_result"
    }
   ],
   "source": [
    "housing.columns"
   ]
  },
  {
   "cell_type": "code",
   "execution_count": 6,
   "id": "45a5a795",
   "metadata": {
    "scrolled": true
   },
   "outputs": [
    {
     "data": {
      "text/plain": [
       "<AxesSubplot:>"
      ]
     },
     "execution_count": 6,
     "metadata": {},
     "output_type": "execute_result"
    },
    {
     "data": {
      "image/png": "[encoded data removed]",
      "text/plain": [
       "<Figure size 1080x648 with 2 Axes>"
      ]
     },
     "metadata": {
      "needs_background": "light"
     },
     "output_type": "display_data"
    }
   ],
   "source": [
    "#correlation matrix\n",
    "corr = housing.corr()\n",
    "f, ax = plt.subplots(figsize=(15, 9))\n",
    "sns.heatmap(corr, vmax=.8, square=True)"
   ]
  },
  {
   "cell_type": "code",
   "execution_count": 7,
   "id": "47dbceab",
   "metadata": {},
   "outputs": [],
   "source": [
    "lm = LinearRegression()\n",
    "price = housing.SalePrice\n",
    "log_price = housing.LogPrice\n",
    "X = housing[[\n",
    "    'TotalLivArea','GarageArea','BsmtUnfSF','TotalOutdoorSF',\n",
    "    'LotArea','LotFrontage','TotRmsAbvGrd','MSSubClass','MSZoning',\n",
    "    'OverallQual','OverallCond','BsmtQual','ExterQual',\n",
    "    'Neighborhood','KitchenQual','FireplaceQu','GarageFinish',\n",
    "    'SaleCondition','YrSold','CentralAir','GarageCars','AllBathrooms',\n",
    "    'HouseAge','YearBuilt','YearRemodAdd','GarageYrBlt','LotShape'\n",
    "]]"
   ]
  },
  {
   "cell_type": "code",
   "execution_count": 11,
   "id": "9da074c4",
   "metadata": {},
   "outputs": [],
   "source": [
    "feats_to_encode = set(X.columns[X.dtypes==object])"
   ]
  },
  {
   "cell_type": "code",
   "execution_count": 12,
   "id": "217204e8",
   "metadata": {},
   "outputs": [],
   "source": [
    "X_feats = list(feats_to_encode.intersection(set(X.columns)))\n"
   ]
  },
  {
   "cell_type": "code",
   "execution_count": 13,
   "id": "64cbfd5c",
   "metadata": {},
   "outputs": [
    {
     "data": {
      "text/html": [
       "<div>\n",
       "<style scoped>\n",
       "    .dataframe tbody tr th:only-of-type {\n",
       "        vertical-align: middle;\n",
       "    }\n",
       "\n",
       "    .dataframe tbody tr th {\n",
       "        vertical-align: top;\n",
       "    }\n",
       "\n",
       "    .dataframe thead th {\n",
       "        text-align: right;\n",
       "    }\n",
       "</style>\n",
       "<table border=\"1\" class=\"dataframe\">\n",
       "  <thead>\n",
       "    <tr style=\"text-align: right;\">\n",
       "      <th></th>\n",
       "      <th>TotalLivArea</th>\n",
       "      <th>GarageArea</th>\n",
       "      <th>BsmtUnfSF</th>\n",
       "      <th>TotalOutdoorSF</th>\n",
       "      <th>LotArea</th>\n",
       "      <th>LotFrontage</th>\n",
       "      <th>TotRmsAbvGrd</th>\n",
       "      <th>OverallQual</th>\n",
       "      <th>OverallCond</th>\n",
       "      <th>BsmtQual</th>\n",
       "      <th>...</th>\n",
       "      <th>Neighborhood_Somerset</th>\n",
       "      <th>Neighborhood_Southwest of ISU</th>\n",
       "      <th>Neighborhood_Stone Brook</th>\n",
       "      <th>Neighborhood_Timberland</th>\n",
       "      <th>Neighborhood_Veenker</th>\n",
       "      <th>CentralAir_Y</th>\n",
       "      <th>SaleCondition_Alloca</th>\n",
       "      <th>SaleCondition_Family</th>\n",
       "      <th>SaleCondition_Normal</th>\n",
       "      <th>SaleCondition_Partial</th>\n",
       "    </tr>\n",
       "  </thead>\n",
       "  <tbody>\n",
       "    <tr>\n",
       "      <th>0</th>\n",
       "      <td>1094</td>\n",
       "      <td>399</td>\n",
       "      <td>618</td>\n",
       "      <td>166</td>\n",
       "      <td>7890</td>\n",
       "      <td>60</td>\n",
       "      <td>4</td>\n",
       "      <td>6</td>\n",
       "      <td>6</td>\n",
       "      <td>3</td>\n",
       "      <td>...</td>\n",
       "      <td>0</td>\n",
       "      <td>1</td>\n",
       "      <td>0</td>\n",
       "      <td>0</td>\n",
       "      <td>0</td>\n",
       "      <td>1</td>\n",
       "      <td>0</td>\n",
       "      <td>0</td>\n",
       "      <td>1</td>\n",
       "      <td>0</td>\n",
       "    </tr>\n",
       "    <tr>\n",
       "      <th>1</th>\n",
       "      <td>1994</td>\n",
       "      <td>266</td>\n",
       "      <td>104</td>\n",
       "      <td>105</td>\n",
       "      <td>4235</td>\n",
       "      <td>42</td>\n",
       "      <td>5</td>\n",
       "      <td>5</td>\n",
       "      <td>5</td>\n",
       "      <td>4</td>\n",
       "      <td>...</td>\n",
       "      <td>0</td>\n",
       "      <td>0</td>\n",
       "      <td>0</td>\n",
       "      <td>0</td>\n",
       "      <td>0</td>\n",
       "      <td>1</td>\n",
       "      <td>0</td>\n",
       "      <td>0</td>\n",
       "      <td>1</td>\n",
       "      <td>0</td>\n",
       "    </tr>\n",
       "    <tr>\n",
       "      <th>2</th>\n",
       "      <td>1738</td>\n",
       "      <td>216</td>\n",
       "      <td>100</td>\n",
       "      <td>282</td>\n",
       "      <td>6060</td>\n",
       "      <td>60</td>\n",
       "      <td>5</td>\n",
       "      <td>5</td>\n",
       "      <td>9</td>\n",
       "      <td>3</td>\n",
       "      <td>...</td>\n",
       "      <td>0</td>\n",
       "      <td>0</td>\n",
       "      <td>0</td>\n",
       "      <td>0</td>\n",
       "      <td>0</td>\n",
       "      <td>1</td>\n",
       "      <td>0</td>\n",
       "      <td>0</td>\n",
       "      <td>1</td>\n",
       "      <td>0</td>\n",
       "    </tr>\n",
       "    <tr>\n",
       "      <th>3</th>\n",
       "      <td>1039</td>\n",
       "      <td>281</td>\n",
       "      <td>405</td>\n",
       "      <td>279</td>\n",
       "      <td>8146</td>\n",
       "      <td>80</td>\n",
       "      <td>6</td>\n",
       "      <td>4</td>\n",
       "      <td>8</td>\n",
       "      <td>2</td>\n",
       "      <td>...</td>\n",
       "      <td>0</td>\n",
       "      <td>0</td>\n",
       "      <td>0</td>\n",
       "      <td>0</td>\n",
       "      <td>0</td>\n",
       "      <td>1</td>\n",
       "      <td>0</td>\n",
       "      <td>0</td>\n",
       "      <td>1</td>\n",
       "      <td>0</td>\n",
       "    </tr>\n",
       "    <tr>\n",
       "      <th>4</th>\n",
       "      <td>2308</td>\n",
       "      <td>528</td>\n",
       "      <td>167</td>\n",
       "      <td>45</td>\n",
       "      <td>8400</td>\n",
       "      <td>70</td>\n",
       "      <td>6</td>\n",
       "      <td>8</td>\n",
       "      <td>6</td>\n",
       "      <td>4</td>\n",
       "      <td>...</td>\n",
       "      <td>0</td>\n",
       "      <td>0</td>\n",
       "      <td>0</td>\n",
       "      <td>0</td>\n",
       "      <td>0</td>\n",
       "      <td>1</td>\n",
       "      <td>0</td>\n",
       "      <td>0</td>\n",
       "      <td>1</td>\n",
       "      <td>0</td>\n",
       "    </tr>\n",
       "  </tbody>\n",
       "</table>\n",
       "<p>5 rows × 75 columns</p>\n",
       "</div>"
      ],
      "text/plain": [
       "   TotalLivArea  GarageArea  BsmtUnfSF  TotalOutdoorSF  LotArea  LotFrontage  \\\n",
       "0          1094         399        618             166     7890           60   \n",
       "1          1994         266        104             105     4235           42   \n",
       "2          1738         216        100             282     6060           60   \n",
       "3          1039         281        405             279     8146           80   \n",
       "4          2308         528        167              45     8400           70   \n",
       "\n",
       "   TotRmsAbvGrd  OverallQual  OverallCond  BsmtQual  ...  \\\n",
       "0             4            6            6         3  ...   \n",
       "1             5            5            5         4  ...   \n",
       "2             5            5            9         3  ...   \n",
       "3             6            4            8         2  ...   \n",
       "4             6            8            6         4  ...   \n",
       "\n",
       "   Neighborhood_Somerset  Neighborhood_Southwest of ISU  \\\n",
       "0                      0                              1   \n",
       "1                      0                              0   \n",
       "2                      0                              0   \n",
       "3                      0                              0   \n",
       "4                      0                              0   \n",
       "\n",
       "   Neighborhood_Stone Brook  Neighborhood_Timberland  Neighborhood_Veenker  \\\n",
       "0                         0                        0                     0   \n",
       "1                         0                        0                     0   \n",
       "2                         0                        0                     0   \n",
       "3                         0                        0                     0   \n",
       "4                         0                        0                     0   \n",
       "\n",
       "   CentralAir_Y  SaleCondition_Alloca  SaleCondition_Family  \\\n",
       "0             1                     0                     0   \n",
       "1             1                     0                     0   \n",
       "2             1                     0                     0   \n",
       "3             1                     0                     0   \n",
       "4             1                     0                     0   \n",
       "\n",
       "   SaleCondition_Normal  SaleCondition_Partial  \n",
       "0                     1                      0  \n",
       "1                     1                      0  \n",
       "2                     1                      0  \n",
       "3                     1                      0  \n",
       "4                     1                      0  \n",
       "\n",
       "[5 rows x 75 columns]"
      ]
     },
     "execution_count": 13,
     "metadata": {},
     "output_type": "execute_result"
    }
   ],
   "source": [
    "#get dummies for cat\n",
    "# Dummify categorical features from all features selected for our model\n",
    "X = pd.get_dummies(X, prefix=X_feats ,columns=X_feats, drop_first=True)\n",
    "X.head()"
   ]
  },
  {
   "cell_type": "code",
   "execution_count": 14,
   "id": "52a95a59",
   "metadata": {},
   "outputs": [
    {
     "name": "stderr",
     "output_type": "stream",
     "text": [
      "/opt/anaconda3/lib/python3.9/site-packages/statsmodels/tsa/tsatools.py:142: FutureWarning: In a future version of pandas all arguments of concat except for the argument 'objs' will be keyword-only\n",
      "  x = pd.concat(x[::order], 1)\n",
      "/opt/anaconda3/lib/python3.9/site-packages/statsmodels/regression/linear_model.py:1715: RuntimeWarning: divide by zero encountered in double_scalars\n",
      "  return 1 - self.ssr/self.centered_tss\n",
      "/opt/anaconda3/lib/python3.9/site-packages/statsmodels/stats/outliers_influence.py:193: RuntimeWarning: divide by zero encountered in double_scalars\n",
      "  vif = 1. / (1. - r_squared_i)\n"
     ]
    },
    {
     "data": {
      "text/html": [
       "<div>\n",
       "<style scoped>\n",
       "    .dataframe tbody tr th:only-of-type {\n",
       "        vertical-align: middle;\n",
       "    }\n",
       "\n",
       "    .dataframe tbody tr th {\n",
       "        vertical-align: top;\n",
       "    }\n",
       "\n",
       "    .dataframe thead th {\n",
       "        text-align: right;\n",
       "    }\n",
       "</style>\n",
       "<table border=\"1\" class=\"dataframe\">\n",
       "  <thead>\n",
       "    <tr style=\"text-align: right;\">\n",
       "      <th></th>\n",
       "      <th>features</th>\n",
       "      <th>VIF</th>\n",
       "    </tr>\n",
       "  </thead>\n",
       "  <tbody>\n",
       "    <tr>\n",
       "      <th>0</th>\n",
       "      <td>const</td>\n",
       "      <td>0.000000</td>\n",
       "    </tr>\n",
       "    <tr>\n",
       "      <th>1</th>\n",
       "      <td>TotalLivArea</td>\n",
       "      <td>5.293544</td>\n",
       "    </tr>\n",
       "    <tr>\n",
       "      <th>2</th>\n",
       "      <td>GarageArea</td>\n",
       "      <td>6.383767</td>\n",
       "    </tr>\n",
       "    <tr>\n",
       "      <th>3</th>\n",
       "      <td>BsmtUnfSF</td>\n",
       "      <td>2.317799</td>\n",
       "    </tr>\n",
       "    <tr>\n",
       "      <th>4</th>\n",
       "      <td>TotalOutdoorSF</td>\n",
       "      <td>1.356462</td>\n",
       "    </tr>\n",
       "    <tr>\n",
       "      <th>...</th>\n",
       "      <td>...</td>\n",
       "      <td>...</td>\n",
       "    </tr>\n",
       "    <tr>\n",
       "      <th>71</th>\n",
       "      <td>CentralAir_Y</td>\n",
       "      <td>1.496434</td>\n",
       "    </tr>\n",
       "    <tr>\n",
       "      <th>72</th>\n",
       "      <td>SaleCondition_Alloca</td>\n",
       "      <td>3.099066</td>\n",
       "    </tr>\n",
       "    <tr>\n",
       "      <th>73</th>\n",
       "      <td>SaleCondition_Family</td>\n",
       "      <td>10.031580</td>\n",
       "    </tr>\n",
       "    <tr>\n",
       "      <th>74</th>\n",
       "      <td>SaleCondition_Normal</td>\n",
       "      <td>53.159245</td>\n",
       "    </tr>\n",
       "    <tr>\n",
       "      <th>75</th>\n",
       "      <td>SaleCondition_Partial</td>\n",
       "      <td>43.019143</td>\n",
       "    </tr>\n",
       "  </tbody>\n",
       "</table>\n",
       "<p>76 rows × 2 columns</p>\n",
       "</div>"
      ],
      "text/plain": [
       "                 features        VIF\n",
       "0                   const   0.000000\n",
       "1            TotalLivArea   5.293544\n",
       "2              GarageArea   6.383767\n",
       "3               BsmtUnfSF   2.317799\n",
       "4          TotalOutdoorSF   1.356462\n",
       "..                    ...        ...\n",
       "71           CentralAir_Y   1.496434\n",
       "72   SaleCondition_Alloca   3.099066\n",
       "73   SaleCondition_Family  10.031580\n",
       "74   SaleCondition_Normal  53.159245\n",
       "75  SaleCondition_Partial  43.019143\n",
       "\n",
       "[76 rows x 2 columns]"
      ]
     },
     "execution_count": 14,
     "metadata": {},
     "output_type": "execute_result"
    }
   ],
   "source": [
    "# NOTE: The VIFs in the R car package also give VIF by the degrees of freedom of the feature which is useful for\n",
    "# dummified features with lots of categories\n",
    "X_add_const = add_constant(X) # apparently, this is required for statsmodels\n",
    "vif = pd.DataFrame()\n",
    "vif['features'] = X_add_const.columns\n",
    "vif['VIF'] = [variance_inflation_factor(X_add_const.values, i) for i in range(X_add_const.shape[1])]\n",
    "vif\n"
   ]
  },
  {
   "cell_type": "code",
   "execution_count": 28,
   "id": "195e8053",
   "metadata": {},
   "outputs": [],
   "source": [
    "X_train, X_test, y_train, y_test = train_test_split(X, price, test_size=0.3, random_state=0)\n",
    "X_train_log, X_test_log, y_train_log, y_test_log = train_test_split(X, log_price, random_state=0, test_size=0.3)\n"
   ]
  },
  {
   "cell_type": "code",
   "execution_count": 29,
   "id": "d3de3857",
   "metadata": {},
   "outputs": [],
   "source": [
    "'''\n",
    "function to score input model based\n",
    "on the train and test targets\n",
    "''' \n",
    "\n",
    "def model_score(model):\n",
    "    model.fit(X_train,y_train)\n",
    "    print('Train Score: ', model.score(X_train,y_train))\n",
    "    print('Test Score: ', model.score(X_test,y_test))\n",
    "\n",
    "    \n",
    "\n",
    "'''\n",
    "function to score input model based on the \n",
    "log of the train and test targets\n",
    "'''\n",
    "def log_score(model):\n",
    "    model.fit(X_train_log,y_train_log)\n",
    "    print('Log Train Score: ', model.score(X_train_log,y_train_log))\n",
    "    print('Log Test Score: ', model.score(X_test_log,y_test_log))"
   ]
  },
  {
   "cell_type": "code",
   "execution_count": 32,
   "id": "99ba3231",
   "metadata": {},
   "outputs": [
    {
     "name": "stdout",
     "output_type": "stream",
     "text": [
      "Train Score:  0.9074684599865324\n",
      "Test Score:  0.9104430388952001\n",
      "Log Train Score:  0.9373670718313256\n",
      "Log Test Score:  0.9338459386734144\n"
     ]
    }
   ],
   "source": [
    "# Fit model\n",
    "lm.fit(X=X_train, y=y_train)\n",
    "y_predict_train = lm.predict(X_train)\n",
    "y_predict_test = lm.predict(X_test)\n",
    "\n",
    "model_score(lm)\n",
    "log_score(lm)"
   ]
  },
  {
   "cell_type": "code",
   "execution_count": 33,
   "id": "8eeb8a5a",
   "metadata": {},
   "outputs": [
    {
     "name": "stdout",
     "output_type": "stream",
     "text": [
      "190451.77074719727\n",
      "0.0983339481173212\n"
     ]
    }
   ],
   "source": [
    "#RMSE and log RMSE\n",
    "rmse = np.sqrt(mean_squared_error(y_test,lm.predict(X_test)))\n",
    "print(rmse)\n",
    "log_rmse = np.sqrt(mean_squared_error(y_test_log,lm.predict(X_test_log)))\n",
    "print(log_rmse)"
   ]
  },
  {
   "cell_type": "code",
   "execution_count": 47,
   "id": "de825c1d",
   "metadata": {},
   "outputs": [
    {
     "name": "stdout",
     "output_type": "stream",
     "text": [
      "Train Score:  0.9074573030615094\n",
      "Test Score:  0.9105384054974286\n",
      "Log Train Score:  0.8285902775431411\n",
      "Log Test Score:  0.8350376664565811\n"
     ]
    },
    {
     "name": "stderr",
     "output_type": "stream",
     "text": [
      "/opt/anaconda3/lib/python3.9/site-packages/sklearn/linear_model/_coordinate_descent.py:530: ConvergenceWarning: Objective did not converge. You might want to increase the number of iterations. Duality gap: 221756109861.79648, tolerance: 977913637.1182487\n",
      "  model = cd_fast.enet_coordinate_descent(\n"
     ]
    }
   ],
   "source": [
    "#lasso\n",
    "from sklearn.linear_model import Lasso\n",
    "lasso_reg = Lasso(alpha=1.0)\n",
    "model_score(lasso_reg)\n",
    "log_score(lasso_reg)"
   ]
  },
  {
   "cell_type": "code",
   "execution_count": 44,
   "id": "fb365fd4",
   "metadata": {},
   "outputs": [
    {
     "name": "stdout",
     "output_type": "stream",
     "text": [
      "190451.7814056648\n",
      "0.15528074872759928\n"
     ]
    }
   ],
   "source": [
    "#RMSE and log RMSE\n",
    "rmse = np.sqrt(mean_squared_error(y_test,lasso_reg.predict(X_test)))\n",
    "print(rmse)\n",
    "log_rmse = np.sqrt(mean_squared_error(y_test_log,lasso_reg.predict(X_test_log)))\n",
    "print(log_rmse)"
   ]
  },
  {
   "cell_type": "code",
   "execution_count": 48,
   "id": "9282fe28",
   "metadata": {
    "scrolled": true
   },
   "outputs": [
    {
     "name": "stdout",
     "output_type": "stream",
     "text": [
      "Train Score:  0.9071197665486251\n",
      "Test Score:  0.9098143369485101\n",
      "Log Train Score:  0.936940827646434\n",
      "Log Test Score:  0.9343910197175858\n"
     ]
    }
   ],
   "source": [
    "#ridge\n",
    "from sklearn.linear_model import Ridge\n",
    "#Fit the model\n",
    "ridge_reg = Ridge(alpha=1.0)\n",
    "\n",
    "model_score(ridge_reg)\n",
    "log_score(ridge_reg)"
   ]
  },
  {
   "cell_type": "code",
   "execution_count": 49,
   "id": "d9fde80a",
   "metadata": {
    "scrolled": true
   },
   "outputs": [
    {
     "name": "stdout",
     "output_type": "stream",
     "text": [
      "190451.77138069802\n",
      "0.09792799542563393\n"
     ]
    }
   ],
   "source": [
    "#RMSE and log RMSE\n",
    "rmse = np.sqrt(mean_squared_error(y_test,ridge_reg.predict(X_test)))\n",
    "print(rmse)\n",
    "log_rmse = np.sqrt(mean_squared_error(y_test_log,ridge_reg.predict(X_test_log)))\n",
    "print(log_rmse)"
   ]
  },
  {
   "cell_type": "code",
   "execution_count": 52,
   "id": "73a96b6c",
   "metadata": {},
   "outputs": [
    {
     "name": "stdout",
     "output_type": "stream",
     "text": [
      "Train Score:  0.8697591852732471\n",
      "Test Score:  0.8753032482963997\n",
      "Log Train Score:  0.8439487950971399\n",
      "Log Test Score:  0.849083399886529\n"
     ]
    },
    {
     "name": "stderr",
     "output_type": "stream",
     "text": [
      "/opt/anaconda3/lib/python3.9/site-packages/sklearn/linear_model/_coordinate_descent.py:530: ConvergenceWarning: Objective did not converge. You might want to increase the number of iterations. Duality gap: 695688498560.0444, tolerance: 977913637.1182487\n",
      "  model = cd_fast.enet_coordinate_descent(\n"
     ]
    }
   ],
   "source": [
    "#elastic net\n",
    "from sklearn.linear_model import ElasticNet\n",
    "el_reg = ElasticNet()\n",
    "\n",
    "model_score(el_reg)\n",
    "log_score(el_reg)"
   ]
  },
  {
   "cell_type": "code",
   "execution_count": 34,
   "id": "e463c54b",
   "metadata": {},
   "outputs": [],
   "source": [
    "# Scale to compare coefficients via OLS\n",
    "scaler = StandardScaler()\n",
    "scaler.fit(X_train)\n",
    "\n",
    "X_train_scaled = scaler.transform(X_train)\n",
    "X_test_scaled = scaler.transform(X_test)\n"
   ]
  },
  {
   "cell_type": "code",
   "execution_count": 38,
   "id": "62077fba",
   "metadata": {},
   "outputs": [
    {
     "name": "stdout",
     "output_type": "stream",
     "text": [
      "                            OLS Regression Results                            \n",
      "==============================================================================\n",
      "Dep. Variable:              SalePrice   R-squared:                       0.907\n",
      "Model:                            OLS   Adj. R-squared:                  0.903\n",
      "Method:                 Least Squares   F-statistic:                     226.6\n",
      "Date:                Fri, 21 Oct 2022   Prob (F-statistic):               0.00\n",
      "Time:                        09:55:27   Log-Likelihood:                -20159.\n",
      "No. Observations:                1761   AIC:                         4.047e+04\n",
      "Df Residuals:                    1687   BIC:                         4.087e+04\n",
      "Df Model:                          73                                         \n",
      "Covariance Type:            nonrobust                                         \n",
      "==============================================================================\n",
      "                 coef    std err          t      P>|t|      [0.025      0.975]\n",
      "------------------------------------------------------------------------------\n",
      "const       1.798e+05    551.897    325.705      0.000    1.79e+05    1.81e+05\n",
      "x1          3.364e+04   1269.115     26.506      0.000    3.11e+04    3.61e+04\n",
      "x2          3051.7283   1360.818      2.243      0.025     382.659    5720.797\n",
      "x3          8966.2857    826.586     10.847      0.000    7345.044    1.06e+04\n",
      "x4          2514.0392    654.701      3.840      0.000    1229.928    3798.151\n",
      "x5          5657.1720    683.626      8.275      0.000    4316.328    6998.016\n",
      "x6          1773.9573    778.811      2.278      0.023     246.419    3301.495\n",
      "x7          -518.1344   1002.775     -0.517      0.605   -2484.947    1448.679\n",
      "x8          1.509e+04   1114.041     13.542      0.000    1.29e+04    1.73e+04\n",
      "x9          5510.1278    766.251      7.191      0.000    4007.224    7013.031\n",
      "x10         -569.8189    902.248     -0.632      0.528   -2339.462    1199.824\n",
      "x11         5557.4523    979.028      5.677      0.000    3637.215    7477.689\n",
      "x12         4514.9005    866.954      5.208      0.000    2814.482    6215.319\n",
      "x13         2211.1545    743.751      2.973      0.003     752.382    3669.927\n",
      "x14          516.4880    813.963      0.635      0.526   -1079.996    2112.972\n",
      "x15         -778.2226    570.436     -1.364      0.173   -1897.060     340.615\n",
      "x16         1237.0227   1363.171      0.907      0.364   -1436.662    3910.708\n",
      "x17          486.8932    995.807      0.489      0.625   -1466.254    2440.041\n",
      "x18        -5103.5782    957.020     -5.333      0.000   -6980.650   -3226.507\n",
      "x19         5103.5782    957.020      5.333      0.000    3226.507    6980.650\n",
      "x20          332.3298    903.999      0.368      0.713   -1440.748    2105.408\n",
      "x21         1334.7014   1245.499      1.072      0.284   -1108.184    3777.587\n",
      "x22           82.5386    639.815      0.129      0.897   -1172.376    1337.454\n",
      "x23        -1272.7744   1907.138     -0.667      0.505   -5013.379    2467.831\n",
      "x24        -2242.5186   5024.105     -0.446      0.655   -1.21e+04    7611.616\n",
      "x25         -438.4041    982.405     -0.446      0.655   -2365.265    1488.457\n",
      "x26        -1073.7937   2134.552     -0.503      0.615   -5260.442    3112.854\n",
      "x27        -2814.9945   9773.959     -0.288      0.773    -2.2e+04    1.64e+04\n",
      "x28        -4289.0306   8714.850     -0.492      0.623   -2.14e+04    1.28e+04\n",
      "x29        -1525.2312   1989.732     -0.767      0.443   -5427.835    2377.372\n",
      "x30          6.63e-12   1.84e-11      0.361      0.718   -2.94e-11    4.27e-11\n",
      "x31         1057.8796   1433.591      0.738      0.461   -1753.925    3869.684\n",
      "x32        -2371.3663   3212.071     -0.738      0.460   -8671.430    3928.697\n",
      "x33        -7241.6743   1822.892     -3.973      0.000   -1.08e+04   -3666.307\n",
      "x34           62.5655    586.328      0.107      0.915   -1087.441    1212.572\n",
      "x35        -2118.0170   1004.725     -2.108      0.035   -4088.657    -147.377\n",
      "x36          696.1412    824.932      0.844      0.399    -921.856    2314.139\n",
      "x37         -989.2210   1378.987     -0.717      0.473   -3693.927    1715.485\n",
      "x38        -2274.5905   2819.309     -0.807      0.420   -7804.302    3255.121\n",
      "x39        -7208.6165   1696.994     -4.248      0.000   -1.05e+04   -3880.182\n",
      "x40        -2940.4028   1323.810     -2.221      0.026   -5536.886    -343.919\n",
      "x41         -944.5881    808.792     -1.168      0.243   -2530.929     641.752\n",
      "x42         -271.6957   1069.989     -0.254      0.800   -2370.341    1826.949\n",
      "x43        -1004.3586   1542.235     -0.651      0.515   -4029.254    2020.536\n",
      "x44          922.7955    746.116      1.237      0.216    -540.614    2386.205\n",
      "x45         1387.1070   1068.681      1.298      0.194    -708.973    3483.187\n",
      "x46         -219.5977   1636.162     -0.134      0.893   -3428.718    2989.522\n",
      "x47         -614.7804   1033.458     -0.595      0.552   -2641.775    1412.215\n",
      "x48        -4031.1153   1987.542     -2.028      0.043   -7929.422    -132.809\n",
      "x49         2331.7836   1416.703      1.646      0.100    -446.897    5110.465\n",
      "x50        -2511.9326   1761.077     -1.426      0.154   -5966.058     942.193\n",
      "x51        -3052.1184   1716.853     -1.778      0.076   -6419.505     315.268\n",
      "x52         -202.3927    650.205     -0.311      0.756   -1477.686    1072.901\n",
      "x53         2339.9487    585.809      3.994      0.000    1190.960    3488.938\n",
      "x54         -634.4406   1595.926     -0.398      0.691   -3764.644    2495.763\n",
      "x55          304.3760    606.272      0.502      0.616    -884.748    1493.500\n",
      "x56          623.6007   1041.727      0.599      0.550   -1419.612    2666.813\n",
      "x57        -2668.0143   1479.912     -1.803      0.072   -5570.671     234.643\n",
      "x58        -5422.8985   2561.238     -2.117      0.034   -1.04e+04    -399.360\n",
      "x59          573.3478    885.990      0.647      0.518   -1164.408    2311.104\n",
      "x60         2681.6290   1210.404      2.215      0.027     307.577    5055.681\n",
      "x61         6375.1002   1450.744      4.394      0.000    3529.654    9220.547\n",
      "x62        -4745.5023   1473.376     -3.221      0.001   -7635.339   -1855.665\n",
      "x63        -2659.0764   2227.486     -1.194      0.233   -7028.004    1709.851\n",
      "x64        -3454.9541   1666.432     -2.073      0.038   -6723.446    -186.462\n",
      "x65        -4016.4813   1444.435     -2.781      0.005   -6849.555   -1183.408\n",
      "x66         1708.5776   1893.404      0.902      0.367   -2005.091    5422.246\n",
      "x67        -2394.8818   1095.132     -2.187      0.029   -4542.842    -246.922\n",
      "x68         4670.9414    967.563      4.828      0.000    2773.191    6568.692\n",
      "x69        -1258.2255   1120.013     -1.123      0.261   -3454.986     938.535\n",
      "x70        -1428.2427    837.126     -1.706      0.088   -3070.157     213.672\n",
      "x71         -445.2779    693.248     -0.642      0.521   -1804.995     914.439\n",
      "x72          245.1566    903.465      0.271      0.786   -1526.873    2017.186\n",
      "x73        -1721.1249   1410.096     -1.221      0.222   -4486.847    1044.597\n",
      "x74         2639.7444   3314.317      0.796      0.426   -3860.861    9140.350\n",
      "x75         6037.9524   3001.767      2.011      0.044     150.372    1.19e+04\n",
      "==============================================================================\n",
      "Omnibus:                      560.378   Durbin-Watson:                   2.026\n",
      "Prob(Omnibus):                  0.000   Jarque-Bera (JB):             5470.588\n",
      "Skew:                           1.202   Prob(JB):                         0.00\n",
      "Kurtosis:                      11.293   Cond. No.                     2.72e+16\n",
      "==============================================================================\n",
      "\n",
      "Notes:\n",
      "[1] Standard Errors assume that the covariance matrix of the errors is correctly specified.\n",
      "[2] The smallest eigenvalue is 2.41e-29. This might indicate that there are\n",
      "strong multicollinearity problems or that the design matrix is singular.\n"
     ]
    }
   ],
   "source": [
    "# Fit same model using statsmodels to see statistics\n",
    "ols = sm.OLS(y_train, sm.add_constant(X_train_scaled))\n",
    "ans = ols.fit()\n",
    "print(ans.summary())"
   ]
  },
  {
   "cell_type": "code",
   "execution_count": 24,
   "id": "aa918f9f",
   "metadata": {},
   "outputs": [
    {
     "data": {
      "text/plain": [
       "count       755.000000\n",
       "mean       1164.164436\n",
       "std       23247.840111\n",
       "min     -101811.063779\n",
       "25%      -10675.682751\n",
       "50%         165.155215\n",
       "75%       13009.450463\n",
       "max      154344.127356\n",
       "Name: SalePrice, dtype: float64"
      ]
     },
     "execution_count": 24,
     "metadata": {},
     "output_type": "execute_result"
    }
   ],
   "source": [
    "# Residuals\n",
    "model_residuals_test = y_test - y_predict_test\n",
    "model_residuals_test.describe()"
   ]
  },
  {
   "cell_type": "code",
   "execution_count": 25,
   "id": "7b697e3c",
   "metadata": {},
   "outputs": [
    {
     "data": {
      "image/png": "[encoded data removed]",
      "text/plain": [
       "<Figure size 720x432 with 1 Axes>"
      ]
     },
     "metadata": {
      "needs_background": "light"
     },
     "output_type": "display_data"
    }
   ],
   "source": [
    "# Plot residuals\n",
    "residuals_all = housing.LogPrice - lm.predict(X)\n",
    "residuals_train = y_train - lm.predict(X_train)\n",
    "residuals_test = y_test - lm.predict(X_test)\n",
    "residuals = pd.DataFrame({\"Train+Test\": residuals_all, \"Train\": residuals_train, \"Test\": residuals_test})\n",
    "\n",
    "fig, ax = plt.subplots(figsize=(10,6))\n",
    "sns.histplot(residuals, kde=True, ax=ax)\n",
    "plt.title(\"Linear model residuals\")\n",
    "plt.show()"
   ]
  },
  {
   "cell_type": "code",
   "execution_count": 26,
   "id": "5b8c28c6",
   "metadata": {},
   "outputs": [
    {
     "data": {
      "image/png": "[encoded data removed]",
      "text/plain": [
       "<Figure size 720x360 with 1 Axes>"
      ]
     },
     "metadata": {
      "needs_background": "light"
     },
     "output_type": "display_data"
    }
   ],
   "source": [
    "# Quantile-Quantile plot\n",
    "stats.probplot(residuals_test, dist=\"norm\", plot=plt)\n",
    "plt.title(\"Q-Q plot-Residuals\")\n",
    "plt.show()"
   ]
  },
  {
   "cell_type": "code",
   "execution_count": 27,
   "id": "60703c17",
   "metadata": {},
   "outputs": [
    {
     "data": {
      "image/png": "[encoded data removed]",
      "text/plain": [
       "<Figure size 720x360 with 1 Axes>"
      ]
     },
     "metadata": {
      "needs_background": "light"
     },
     "output_type": "display_data"
    }
   ],
   "source": [
    "# Residuals vs Predicted LogSalePrice\n",
    "sns.scatterplot(y=residuals_train, x=y_predict_train, color='blue', marker='o', alpha = 0.5, label=\"Train data\")\n",
    "sns.scatterplot(y=residuals_test, x=y_predict_test, color='green', marker='s', alpha=0.5, label=\"Test data\")\n",
    "plt.axhline(y=0, color=\"red\", linestyle='--')\n",
    "plt.title(\"Residuals vs Predicted LogSalePrice\")\n",
    "plt.ylabel(\"Residuals\")\n",
    "plt.xlabel(\"LogSalePrice\")\n",
    "plt.show()"
   ]
  },
  {
   "cell_type": "code",
   "execution_count": null,
   "id": "f0719117",
   "metadata": {},
   "outputs": [],
   "source": []
  },
  {
   "cell_type": "code",
   "execution_count": null,
   "id": "7bb99eda",
   "metadata": {},
   "outputs": [],
   "source": []
  },
  {
   "cell_type": "code",
   "execution_count": null,
   "id": "7ec08004",
   "metadata": {},
   "outputs": [],
   "source": []
  }
 ],
 "metadata": {
  "kernelspec": {
   "display_name": "Python 3 (ipykernel)",
   "language": "python",
   "name": "python3"
  },
  "language_info": {
   "codemirror_mode": {
    "name": "ipython",
    "version": 3
   },
   "file_extension": ".py",
   "mimetype": "text/x-python",
   "name": "python",
   "nbconvert_exporter": "python",
   "pygments_lexer": "ipython3",
   "version": "3.9.7"
  }
 },
 "nbformat": 4,
 "nbformat_minor": 5
}
